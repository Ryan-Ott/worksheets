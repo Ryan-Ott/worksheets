{
 "cells": [
  {
   "cell_type": "markdown",
   "metadata": {},
   "source": [
    "this worksheets is part of the [mlvu machine learning course](https://mlvu.github.io)<br>\n",
    "setting up your environment: https://bit.ly/3bzpn5C\n",
    "\n",
    "This worksheet assumes that you've seen the first Deep Learning lecture. If you're running the worksheet before that lecture, you may want to have a look at last year's video. You can find the video through the course website above.\n",
    "\n",
    "For this worksheet, we need to install Keras. Execute the cell below.\n",
    "\n",
    "Parts of this worksheet are based on the Keras [autoencoder tutorial](https://blog.keras.io/building-autoencoders-in-keras.html)."
   ]
  },
  {
   "cell_type": "code",
   "execution_count": 1,
   "metadata": {},
   "outputs": [
    {
     "name": "stdout",
     "output_type": "stream",
     "text": [
      "Collecting tensorflow\n",
      "  Downloading tensorflow-2.8.0-cp38-cp38-macosx_10_14_x86_64.whl (217.4 MB)\n",
      "\u001b[K     |████████████████████████████████| 217.4 MB 12 kB/s  eta 0:00:01    |██▊                             | 18.4 MB 5.7 MB/s eta 0:00:35     |█████████████████████▌          | 145.9 MB 1.8 MB/s eta 0:00:40\n",
      "\u001b[?25hRequirement already satisfied: six>=1.12.0 in /Users/ryan/Library/Python/3.8/lib/python/site-packages (from tensorflow) (1.12.0)\n",
      "Requirement already satisfied: wrapt>=1.11.0 in /Users/ryan/Library/Python/3.8/lib/python/site-packages (from tensorflow) (1.11.2)\n",
      "Requirement already satisfied: setuptools in /Library/Frameworks/Python.framework/Versions/3.8/lib/python3.8/site-packages (from tensorflow) (41.2.0)\n",
      "Collecting tf-estimator-nightly==2.8.0.dev2021122109\n",
      "  Using cached tf_estimator_nightly-2.8.0.dev2021122109-py2.py3-none-any.whl (462 kB)\n",
      "Collecting absl-py>=0.4.0\n",
      "  Using cached absl_py-1.0.0-py3-none-any.whl (126 kB)\n",
      "Collecting astunparse>=1.6.0\n",
      "  Using cached astunparse-1.6.3-py2.py3-none-any.whl (12 kB)\n",
      "Collecting flatbuffers>=1.12\n",
      "  Using cached flatbuffers-2.0-py2.py3-none-any.whl (26 kB)\n",
      "Collecting gast>=0.2.1\n",
      "  Using cached gast-0.5.3-py3-none-any.whl (19 kB)\n",
      "Collecting google-pasta>=0.1.1\n",
      "  Using cached google_pasta-0.2.0-py3-none-any.whl (57 kB)\n",
      "Collecting grpcio<2.0,>=1.24.3\n",
      "  Downloading grpcio-1.44.0-cp38-cp38-macosx_10_10_x86_64.whl (4.3 MB)\n",
      "\u001b[K     |████████████████████████████████| 4.3 MB 6.0 MB/s eta 0:00:01\n",
      "\u001b[?25hCollecting h5py>=2.9.0\n",
      "  Downloading h5py-3.6.0-cp38-cp38-macosx_10_9_x86_64.whl (3.1 MB)\n",
      "\u001b[K     |████████████████████████████████| 3.1 MB 8.9 MB/s eta 0:00:01\n",
      "\u001b[?25hCollecting keras<2.9,>=2.8.0rc0\n",
      "  Using cached keras-2.8.0-py2.py3-none-any.whl (1.4 MB)\n",
      "Collecting keras-preprocessing>=1.1.1\n",
      "  Using cached Keras_Preprocessing-1.1.2-py2.py3-none-any.whl (42 kB)\n",
      "Collecting libclang>=9.0.1\n",
      "  Using cached libclang-13.0.0-py2.py3-none-macosx_10_9_x86_64.whl (13.0 MB)\n",
      "Collecting numpy>=1.20\n",
      "  Downloading numpy-1.22.2-cp38-cp38-macosx_10_14_x86_64.whl (17.6 MB)\n",
      "\u001b[K     |████████████████████████████████| 17.6 MB 611 kB/s eta 0:00:011    |███████████▏                    | 6.1 MB 10.0 MB/s eta 0:00:02\n",
      "\u001b[?25hCollecting opt-einsum>=2.3.2\n",
      "  Using cached opt_einsum-3.3.0-py3-none-any.whl (65 kB)\n",
      "Collecting protobuf>=3.9.2\n",
      "  Downloading protobuf-3.19.4-cp38-cp38-macosx_10_9_x86_64.whl (961 kB)\n",
      "\u001b[K     |████████████████████████████████| 961 kB 5.3 MB/s eta 0:00:01\n",
      "\u001b[?25hCollecting tensorboard<2.9,>=2.8\n",
      "  Using cached tensorboard-2.8.0-py3-none-any.whl (5.8 MB)\n",
      "Requirement already satisfied: requests<3,>=2.21.0 in /Library/Frameworks/Python.framework/Versions/3.8/lib/python3.8/site-packages (from tensorboard<2.9,>=2.8->tensorflow) (2.24.0)\n",
      "Requirement already satisfied: werkzeug>=0.11.15 in /Library/Frameworks/Python.framework/Versions/3.8/lib/python3.8/site-packages (from tensorboard<2.9,>=2.8->tensorflow) (1.0.1)\n",
      "Collecting google-auth<3,>=1.6.3\n",
      "  Using cached google_auth-2.6.0-py2.py3-none-any.whl (156 kB)\n",
      "Collecting cachetools<6.0,>=2.0.0\n",
      "  Using cached cachetools-5.0.0-py3-none-any.whl (9.1 kB)\n",
      "Collecting google-auth-oauthlib<0.5,>=0.4.1\n",
      "  Using cached google_auth_oauthlib-0.4.6-py2.py3-none-any.whl (18 kB)\n",
      "Collecting markdown>=2.6.8\n",
      "  Using cached Markdown-3.3.6-py3-none-any.whl (97 kB)\n",
      "Collecting importlib-metadata>=4.4\n",
      "  Using cached importlib_metadata-4.11.2-py3-none-any.whl (17 kB)\n",
      "Collecting pyasn1-modules>=0.2.1\n",
      "  Using cached pyasn1_modules-0.2.8-py2.py3-none-any.whl (155 kB)\n",
      "Collecting pyasn1<0.5.0,>=0.4.6\n",
      "  Using cached pyasn1-0.4.8-py2.py3-none-any.whl (77 kB)\n",
      "Requirement already satisfied: certifi>=2017.4.17 in /Library/Frameworks/Python.framework/Versions/3.8/lib/python3.8/site-packages (from requests<3,>=2.21.0->tensorboard<2.9,>=2.8->tensorflow) (2019.9.11)\n",
      "Requirement already satisfied: urllib3!=1.25.0,!=1.25.1,<1.26,>=1.21.1 in /Library/Frameworks/Python.framework/Versions/3.8/lib/python3.8/site-packages (from requests<3,>=2.21.0->tensorboard<2.9,>=2.8->tensorflow) (1.25.11)\n",
      "Requirement already satisfied: chardet<4,>=3.0.2 in /Library/Frameworks/Python.framework/Versions/3.8/lib/python3.8/site-packages (from requests<3,>=2.21.0->tensorboard<2.9,>=2.8->tensorflow) (3.0.4)\n",
      "Requirement already satisfied: idna<3,>=2.5 in /Library/Frameworks/Python.framework/Versions/3.8/lib/python3.8/site-packages (from requests<3,>=2.21.0->tensorboard<2.9,>=2.8->tensorflow) (2.10)\n",
      "Collecting requests-oauthlib>=0.7.0\n",
      "  Using cached requests_oauthlib-1.3.1-py2.py3-none-any.whl (23 kB)\n",
      "Collecting oauthlib>=3.0.0\n",
      "  Using cached oauthlib-3.2.0-py3-none-any.whl (151 kB)\n",
      "Collecting rsa<5,>=3.1.4\n",
      "  Using cached rsa-4.8-py3-none-any.whl (39 kB)\n",
      "Collecting tensorboard-data-server<0.7.0,>=0.6.0\n",
      "  Using cached tensorboard_data_server-0.6.1-py3-none-macosx_10_9_x86_64.whl (3.5 MB)\n",
      "Collecting tensorboard-plugin-wit>=1.6.0\n",
      "  Using cached tensorboard_plugin_wit-1.8.1-py3-none-any.whl (781 kB)\n",
      "Collecting tensorflow-io-gcs-filesystem>=0.23.1\n",
      "  Downloading tensorflow_io_gcs_filesystem-0.24.0-cp38-cp38-macosx_10_14_x86_64.whl (1.6 MB)\n",
      "\u001b[K     |████████████████████████████████| 1.6 MB 5.2 MB/s eta 0:00:01\n",
      "\u001b[?25hCollecting termcolor>=1.1.0\n",
      "  Using cached termcolor-1.1.0.tar.gz (3.9 kB)\n",
      "Collecting typing-extensions>=3.6.6\n",
      "  Using cached typing_extensions-4.1.1-py3-none-any.whl (26 kB)\n",
      "Collecting wheel<1.0,>=0.23.0\n",
      "  Downloading wheel-0.37.1-py2.py3-none-any.whl (35 kB)\n",
      "Collecting zipp>=0.5\n",
      "  Using cached zipp-3.7.0-py3-none-any.whl (5.3 kB)\n",
      "Using legacy 'setup.py install' for termcolor, since package 'wheel' is not installed.\n",
      "Installing collected packages: pyasn1, zipp, rsa, pyasn1-modules, oauthlib, cachetools, requests-oauthlib, importlib-metadata, google-auth, wheel, tensorboard-plugin-wit, tensorboard-data-server, protobuf, numpy, markdown, grpcio, google-auth-oauthlib, absl-py, typing-extensions, tf-estimator-nightly, termcolor, tensorflow-io-gcs-filesystem, tensorboard, opt-einsum, libclang, keras-preprocessing, keras, h5py, google-pasta, gast, flatbuffers, astunparse, tensorflow\n",
      "  Attempting uninstall: numpy\n",
      "    Found existing installation: numpy 1.19.4\n",
      "    Uninstalling numpy-1.19.4:\n",
      "      Successfully uninstalled numpy-1.19.4\n",
      "    Running setup.py install for termcolor ... \u001b[?25ldone\n",
      "\u001b[?25hSuccessfully installed absl-py-1.0.0 astunparse-1.6.3 cachetools-5.0.0 flatbuffers-2.0 gast-0.5.3 google-auth-2.6.0 google-auth-oauthlib-0.4.6 google-pasta-0.2.0 grpcio-1.44.0 h5py-3.6.0 importlib-metadata-4.11.2 keras-2.8.0 keras-preprocessing-1.1.2 libclang-13.0.0 markdown-3.3.6 numpy-1.22.2 oauthlib-3.2.0 opt-einsum-3.3.0 protobuf-3.19.4 pyasn1-0.4.8 pyasn1-modules-0.2.8 requests-oauthlib-1.3.1 rsa-4.8 tensorboard-2.8.0 tensorboard-data-server-0.6.1 tensorboard-plugin-wit-1.8.1 tensorflow-2.8.0 tensorflow-io-gcs-filesystem-0.24.0 termcolor-1.1.0 tf-estimator-nightly-2.8.0.dev2021122109 typing-extensions-4.1.1 wheel-0.37.1 zipp-3.7.0\n",
      "\u001b[33mWARNING: You are using pip version 20.3.3; however, version 22.0.3 is available.\n",
      "You should consider upgrading via the '/Library/Frameworks/Python.framework/Versions/3.8/bin/python3 -m pip install --upgrade pip' command.\u001b[0m\n",
      "Note: you may need to restart the kernel to use updated packages.\n"
     ]
    }
   ],
   "source": [
    "pip install tensorflow"
   ]
  },
  {
   "cell_type": "markdown",
   "metadata": {},
   "source": [
    "Execute the cell below to see if the installation worked (loading tensorflow may take a while)."
   ]
  },
  {
   "cell_type": "code",
   "execution_count": 2,
   "metadata": {},
   "outputs": [],
   "source": [
    "import tensorflow as tf"
   ]
  },
  {
   "cell_type": "markdown",
   "metadata": {},
   "source": [
    "# Worksheet 4: Deep Learning\n",
    "\n",
    "**Tensorflow** is a low-level deep learning framework. **Keras** is a frontend library that makes things a little easier to use. It implements most basic neural network architectures in a simple framework. \n",
    "\n",
    "Deep learning models are trained by gradient descent. These models are often so complex, that we don't want to have to work out the gradient ourselves. Keras and tensorflow allow the gradient to be computed automatically.\n",
    "\n",
    "As we perform computations, tensorflow remembers the _computation graph_ that we build up. When the time comes to compute the gradient, tensorflow can trace back over the computation graph (using the backpropagation algorithm) and work out all the required gradients.\n",
    "\n",
    "When we build models with Keras, all this is abstracted away, so we don't usually have to worry about it. When we want to do more complicated things than Keras is suited to, a more low-level library is required, like vanilla Tensorflow or Pytorch. The next worksheet focuses on Pytorch."
   ]
  },
  {
   "cell_type": "markdown",
   "metadata": {},
   "source": [
    "## Classification with a simple neural network model\n",
    "\n",
    "Now, let's build a simple neural network. We'll start by loading the [MNIST data](https://en.wikipedia.org/wiki/MNIST_database) that we saw in the first lecture."
   ]
  },
  {
   "cell_type": "code",
   "execution_count": 3,
   "metadata": {},
   "outputs": [
    {
     "name": "stdout",
     "output_type": "stream",
     "text": [
      "Downloading data from https://storage.googleapis.com/tensorflow/tf-keras-datasets/mnist.npz\n",
      "11493376/11490434 [==============================] - 2s 0us/step\n",
      "11501568/11490434 [==============================] - 2s 0us/step\n",
      "(60000, 28, 28)\n",
      "(10000, 28, 28)\n",
      "<class 'numpy.ndarray'>\n"
     ]
    }
   ],
   "source": [
    "from tensorflow.keras.datasets import mnist\n",
    "\n",
    "(x_train, y_train), (x_test, y_test) = mnist.load_data()\n",
    "\n",
    "print(x_train.shape) \n",
    "print(x_test.shape)\n",
    "\n",
    "print(type(x_train)) # note that these are just numpy arrays, no special tensorflow objects yet"
   ]
  },
  {
   "cell_type": "markdown",
   "metadata": {},
   "source": [
    "Note that the data is already split in a canonical train and test set. The training set is one 3D numpy array (a 3-tensor) of 60000 images of 28x28 pixels. The test set contains 10000 additional images.\n",
    "\n",
    "We'll define a simple function to have a look at the images in the data."
   ]
  },
  {
   "cell_type": "code",
   "execution_count": 4,
   "metadata": {},
   "outputs": [
    {
     "name": "stdout",
     "output_type": "stream",
     "text": [
      "[5 0 4 1 9 2 1 3 1 4]\n"
     ]
    },
    {
     "data": {
      "image/png": "[encoded data removed]",
      "text/plain": [
       "<Figure size 864x8640 with 10 Axes>"
      ]
     },
     "metadata": {
      "needs_background": "light"
     },
     "output_type": "display_data"
    }
   ],
   "source": [
    "import matplotlib.pyplot as plt\n",
    "%matplotlib inline\n",
    "\n",
    "def plot_digits(data):\n",
    "    \n",
    "    if(len(data.shape)==4):\n",
    "        data = data.squeeze(3)\n",
    "        \n",
    "    n, w, h = data.shape\n",
    "    \n",
    "    plt.figure(figsize=(12, 12*n))\n",
    "    for i in range(n):\n",
    "        ax = plt.subplot(1,n, i+1)\n",
    "        plt.imshow(data[i], cmap='gray')\n",
    "        ax.get_xaxis().set_visible(False)\n",
    "        ax.get_yaxis().set_visible(False)\n",
    "    \n",
    "# use the function to plot the first 10 digits (together with the training labels)\n",
    "plot_digits(x_train[:10, :, :])\n",
    "print(y_train[:10])"
   ]
  },
  {
   "cell_type": "markdown",
   "metadata": {},
   "source": [
    "For this first network, we don't care about the structure of the image, so we'll [flatten](https://docs.scipy.org/doc/numpy/reference/generated/numpy.reshape.html#numpy.reshape) everything into a 784-dimensional feature vector."
   ]
  },
  {
   "cell_type": "code",
   "execution_count": null,
   "metadata": {},
   "outputs": [],
   "source": [
    "x_train = x_train.reshape(60000, -1)\n",
    "x_test = x_test.reshape(10000, -1)\n",
    "\n",
    "print(x_train.shape) \n",
    "print(x_test.shape)"
   ]
  },
  {
   "cell_type": "markdown",
   "metadata": {},
   "source": [
    "The first model we'll use is a simple fully connected feedforward network. This is called a [Dense layer](https://keras.io/layers/core/#dense) in Keras. Since fully connected layers are a bit heavy on image data (and you're probably running this on your laptop), we'll reduce the dimensionality of the data by PCA (see the [Methodology 2](https://youtu.be/csk2HSWS5r8) lecture)."
   ]
  },
  {
   "cell_type": "code",
   "execution_count": null,
   "metadata": {},
   "outputs": [],
   "source": [
    "from sklearn.decomposition import PCA\n",
    "\n",
    "pca = PCA(n_components=60) # reduce to 60 dimensions\n",
    "pca.fit(x_train)\n",
    "\n",
    "x_train = pca.transform(x_train)\n",
    "x_test = pca.transform(x_test)\n",
    "\n",
    "print(x_train.shape) \n",
    "print(x_test.shape) \n",
    "\n",
    "# NB: none of this is Keras yet. We're just using sklearn on some numpy arrays"
   ]
  },
  {
   "cell_type": "markdown",
   "metadata": {},
   "source": [
    "The training labels are encoded as integers. We need these as one-hot vectors instead, so we can match them to the ten outputs of the neural network."
   ]
  },
  {
   "cell_type": "code",
   "execution_count": null,
   "metadata": {},
   "outputs": [],
   "source": [
    "from tensorflow.keras.utils import to_categorical\n",
    "\n",
    "print(y_train.shape, y_test.shape)\n",
    "\n",
    "y_train = to_categorical(y_train)\n",
    "y_test = to_categorical(y_test)\n",
    "\n",
    "print(y_train.shape, y_test.shape)"
   ]
  },
  {
   "cell_type": "markdown",
   "metadata": {},
   "source": [
    "The labels are now encoded as _one-hot vectors_: vectors of length 10 with zeros everywhere, except at the true class."
   ]
  },
  {
   "cell_type": "code",
   "execution_count": null,
   "metadata": {},
   "outputs": [],
   "source": [
    "print(y_train[0]) # print the one-hot vector for the first example"
   ]
  },
  {
   "cell_type": "markdown",
   "metadata": {},
   "source": [
    "We are now ready to create a model. Keras has two APIs for this: the **Sequential API** and the **Model API**. The sequential API (the simplest) assumes that your model is a simple sequence of operations, usually neural network layers. The input is passed through the first layer, the result of that is passed through the second and so on. \n",
    "\n",
    "Note that it's the _model_ that is sequential, not the data. We are not dealing with sequential data (like language) here.\n",
    "\n",
    "This is useful for simple NN models where you are only interested in the input and output. If your model gets more complex, you may want to use the Model API (we'll discuss that below)."
   ]
  },
  {
   "cell_type": "code",
   "execution_count": null,
   "metadata": {},
   "outputs": [],
   "source": [
    "from tensorflow.keras.models import Sequential\n",
    "from tensorflow.keras.layers import Dense, Activation\n",
    "\n",
    "model = Sequential()\n",
    "model.add(Dense(128, input_shape=(60,))) # first dense layer, 32 hidden units\n",
    "model.add(Activation('relu'))            # activation layer\n",
    "model.add(Dense(10))                     # second dense layer\n",
    "model.add(Activation('softmax'))         # output class probabilities\n",
    "\n",
    "model.summary()"
   ]
  },
  {
   "cell_type": "markdown",
   "metadata": {},
   "source": [
    "There are a few things to note:\n",
    "\n",
    "* For the first layer we need to provide the input shape. For the second, this is not necessary, because Keras can _infer_ the input shape from the layers before it.\n",
    "* The Dense layers are just linear operations (multiply by a weight matrix, add a bias vector). The activation functions are added as separate layers (activation_1, and activation_2). You can also pass the activation as an argument to the Dense layer.\n",
    "* Keras picks a sensible default weight initialization for us, and applies it (this model already has initial weights).\n",
    "* The last layer has 10 nodes (one for each class) with a softmax activation. This means we can interpret the output as class probabilities.\n",
    "* Even though we specified a one-dimensional input, the model summary shows two-dimensional shapes with the first dimension always ```None```. This is the _batch dimension_. Neural networks are almost never trained/run one input at a time; we usually feed them several inputs together (a mini-batch). So, if we choose a batch size of ten, our input dimension would become (10, 60 ) and our first hidden layer would have dimensions (10, 32). Keras can be flexible about the batch size so we don't have to specify it now.\n",
    "\n"
   ]
  },
  {
   "cell_type": "markdown",
   "metadata": {},
   "source": [
    "To get a complete computation graph, we need more than just a model: we need a loss function as well. We also need to specify which optimizer we're going to use. \n",
    "\n",
    "Let's use categorical cross-entropy as loss, together with the _Adam_ optimizer. All Keras' [optimizers](https://keras.io/optimizers/) are variations on gradient descent. Adam is a good default choice.\n",
    "\n",
    "With this information, we can compile the model."
   ]
  },
  {
   "cell_type": "code",
   "execution_count": null,
   "metadata": {},
   "outputs": [],
   "source": [
    "from tensorflow.keras.optimizers import SGD, Adam\n",
    "\n",
    "optimizer = Adam(lr=0.001) # lr is the learning rate\n",
    "model.compile(optimizer=optimizer, loss='categorical_crossentropy', metrics=['accuracy'])"
   ]
  },
  {
   "cell_type": "markdown",
   "metadata": {},
   "source": [
    "We've also told the compiler that we'd like it to compute accuracy for us during training (since categorical cross-entropy is a bit hard to interpret).\n",
    "\n",
    "We're now ready to start training:"
   ]
  },
  {
   "cell_type": "code",
   "execution_count": null,
   "metadata": {},
   "outputs": [],
   "source": [
    "# Train the model, iterating on the data in batches of 32 samples\n",
    "model.fit(x_train, y_train, epochs=5, batch_size=32);"
   ]
  },
  {
   "cell_type": "markdown",
   "metadata": {},
   "source": [
    "On my laptop (no GPU), this takes about 3 to 5 seconds per epoch (an epoch is a pass over the whole data).\n",
    "\n",
    "Note that these losses/accuracies are on the training data, so we can't tell if we're overfitting. Of course, **we don't want to use the test data at this stage to see how well we're doing**. We can tell Keras to withhold some validation data, so we can get an indication of the accuracy."
   ]
  },
  {
   "cell_type": "code",
   "execution_count": null,
   "metadata": {},
   "outputs": [],
   "source": [
    "# Train the model, iterating on the data in batches of 32 samples\n",
    "model.fit(x_train, y_train, epochs=5, batch_size=32, validation_split=1/6);"
   ]
  },
  {
   "cell_type": "markdown",
   "metadata": {},
   "source": [
    "I end up with a validation accuracy of about 96%. Note that the model remembers its weights between cells so we've now trained it for 10 epochs, not 5."
   ]
  },
  {
   "cell_type": "markdown",
   "metadata": {
    "collapsed": true
   },
   "source": [
    "Apparently, kNN with 60 dimensional PCA'd MNIST [can get an accuracy of 97.5%](http://bradleymitchell.me/?p=102), so we're doing ok. Let's see if we can do better with a convolutional neural net."
   ]
  },
  {
   "cell_type": "markdown",
   "metadata": {},
   "source": [
    "## A ConvNet for classification\n",
    "\n",
    "What deep neural networks really excel at, is _making use of all the data_. We've denied our neural network that by reducing the features with PCA. This time, we'll train a network on the complete images, but we'll use a sparsely connected network, a so called convolutional neural net. See the _Deep Learning 1_ lecture for more information.\n",
    "\n",
    "First, we'll reload the data, to undo our PCA."
   ]
  },
  {
   "cell_type": "code",
   "execution_count": null,
   "metadata": {},
   "outputs": [],
   "source": [
    "(x_train, y_train), (x_test, y_test) = mnist.load_data()\n",
    "\n",
    "y_train = to_categorical(y_train)\n",
    "y_test = to_categorical(y_test)\n",
    "\n",
    "print(x_train.shape) \n",
    "print(x_test.shape)"
   ]
  },
  {
   "cell_type": "markdown",
   "metadata": {},
   "source": [
    "This time, we'll _keep the shape_. Keras needs that information to know how to wire up the Convolutional layers.\n",
    "\n",
    "Keras expects images to be 3-tensors with dimensions width, height, _channels_. Even though our images are grayscale, so have only one channel, the dimension still needs to be there. We'll add a dimension to the test and training data"
   ]
  },
  {
   "cell_type": "code",
   "execution_count": null,
   "metadata": {},
   "outputs": [],
   "source": [
    "x_train = x_train[:, :, :, None]\n",
    "x_test  = x_test[:, :, :, None]\n",
    "\n",
    "print(x_train.shape) \n",
    "print(x_test.shape)"
   ]
  },
  {
   "cell_type": "markdown",
   "metadata": {},
   "source": [
    "Here is our network (inspired by [this keras example](https://keras.io/examples/vision/mnist_convnet/))."
   ]
  },
  {
   "cell_type": "code",
   "execution_count": null,
   "metadata": {},
   "outputs": [],
   "source": [
    "from tensorflow.keras.models import Sequential\n",
    "from tensorflow.keras.layers import Dense, Activation, Conv2D, MaxPool2D, Dropout, Flatten\n",
    "\n",
    "model = Sequential()\n",
    "model.add(Conv2D(16, kernel_size=(3, 3), activation='relu', input_shape=(28,28,1)))\n",
    "model.add(Conv2D(32, (3, 3), activation='relu'))\n",
    "model.add(MaxPool2D(pool_size=(2, 2)))\n",
    "model.add(Dropout(0.25)) # Dropout 25% of the nodes of the previous layer during training\n",
    "model.add(Flatten())     # Flatten, and add a fully connected layer\n",
    "model.add(Dense(128, activation='relu')) \n",
    "model.add(Dropout(0.5))\n",
    "model.add(Dense(10, activation='softmax')) # Last layer: 10 class nodes, with dropout\n",
    "model.summary()"
   ]
  },
  {
   "cell_type": "markdown",
   "metadata": {},
   "source": [
    "Note that we have about half a million parameters. With a strong optimizer like Adam, and a big dataset like MNIST, this shouldn't be a problem."
   ]
  },
  {
   "cell_type": "code",
   "execution_count": null,
   "metadata": {},
   "outputs": [],
   "source": [
    "from tensorflow.keras.optimizers import Adam\n",
    "\n",
    "optimizer = Adam(lr=0.001)\n",
    "model.compile(optimizer=optimizer, loss='categorical_crossentropy', metrics=['accuracy'])\n",
    "\n",
    "# Train the model, iterating on the data in batches of 32 samples\n",
    "model.fit(x_train, y_train, epochs=15, batch_size=32, validation_split=1/6)"
   ]
  },
  {
   "cell_type": "markdown",
   "metadata": {},
   "source": [
    "It's a little slower than the previous network (around 50 seconds per epoch on my machine), but worth waiting for. After just one epoch, the validation accuracy is already ~97%."
   ]
  },
  {
   "cell_type": "markdown",
   "metadata": {},
   "source": [
    "## Autoencoders\n",
    "\n",
    "The real fun of deep learning comes from building things that are not traditional classifiers, but that put the deep learning building blocks to another use. A simple example is an auto-encoder. We only discuss autoencoders in the _Deep Learning 2_ lecture, but the principle is simple: we want the neural network to reconstruct its input, but one of the layers in the middle is very small.\n",
    "\n",
    "For this, we'll ditch the Sequential API and go for the <em>Model API</em>. It's a little more complex, and a lot more powerful.\n",
    "\n",
    "First, we'll reload the data again. This time, we need to rescale the pixel values to be between 0 and 1."
   ]
  },
  {
   "cell_type": "code",
   "execution_count": null,
   "metadata": {},
   "outputs": [],
   "source": [
    "(x_train, y_train), (x_test, y_test) = mnist.load_data()\n",
    "\n",
    "x_train = x_train[:, :, :, None]\n",
    "x_test  = x_test[:, :, :, None]\n",
    "\n",
    "x_train = x_train / 255.\n",
    "x_test = x_test / 255."
   ]
  },
  {
   "cell_type": "markdown",
   "metadata": {},
   "source": [
    "Next, we'll build an encoder that maps the data to a small vector of just two dimensions. "
   ]
  },
  {
   "cell_type": "code",
   "execution_count": null,
   "metadata": {},
   "outputs": [],
   "source": [
    "from tensorflow.keras.layers import Input, Conv2D, Conv2DTranspose, Dense, Reshape, MaxPooling2D, UpSampling2D, Flatten\n",
    "from tensorflow.keras.models import Model\n",
    "\n",
    "hidden_size = 2 # very small hidden size for an autoencoder, but it lets us plot the results\n",
    "\n",
    "input = Input(shape=(28,28,1))\n",
    "\n",
    "x = Conv2D(4, (3, 3), activation='relu', padding='same', input_shape=(28, 28, 1))(input)\n",
    "x = MaxPooling2D((2, 2), padding='same')(x)\n",
    "x = Conv2D(8, (4, 4), activation='relu', padding='same')(x)\n",
    "x = MaxPooling2D((2, 2), padding='same')(x)\n",
    "x = Conv2D(16, (4, 4), activation='relu', padding='same')(x)\n",
    "x = MaxPooling2D((2, 2), padding='same')(x)\n",
    "x = Flatten()(x)\n",
    "x = Dense(hidden_size)(x)\n",
    "\n",
    "encoder = Model(input, x)\n",
    "\n",
    "encoder.summary()"
   ]
  },
  {
   "cell_type": "markdown",
   "metadata": {},
   "source": [
    "The encoder takes the input and transforms it (through some convolutions) to a 2D point. Note that:\n",
    "\n",
    "* We are building a computation graph before seeing the data: we start with a placeholder (the ```Input```), and apply several transformations to it. At the end, the object ```x``` holds the whole computation graph. We then specify that our model consists of this computation graph, uses the placeholder node ```input``` as its input and uses ```x``` as its output.\n",
    "* We no longer need to store the sequence of layers. By the end, everything is stored inside x. We can create a layer, apply it and forget about it.\n",
    "\n",
    "We also define a <em>decoder</em>, which does the opposite: it starts with a 2D point (usually the output of our encoder), and transforms it back to an image."
   ]
  },
  {
   "cell_type": "code",
   "execution_count": null,
   "metadata": {},
   "outputs": [],
   "source": [
    "encoded = Input(shape=(hidden_size,))\n",
    "\n",
    "x = Dense(128)(encoded)\n",
    "x = Reshape((4,4,8))(x)\n",
    "\n",
    "x = UpSampling2D((2, 2))(x)\n",
    "x = Conv2D(4, (3, 3), activation='relu', padding='same')(x)\n",
    "x = UpSampling2D((2, 2))(x)\n",
    "x = Conv2D(2, (3, 3), activation='relu')(x)\n",
    "x = UpSampling2D((2, 2))(x)\n",
    "decoded = Conv2D(1, (3, 3), activation='sigmoid', padding='same')(x)\n",
    "\n",
    "decoder = Model(encoded, decoded)\n",
    "\n",
    "decoder.summary()"
   ]
  },
  {
   "cell_type": "markdown",
   "metadata": {},
   "source": [
    "The complete autoencoder now just consists of applying first the encoder model, and then the decoder model."
   ]
  },
  {
   "cell_type": "code",
   "execution_count": null,
   "metadata": {},
   "outputs": [],
   "source": [
    "auto = Model(input, decoder(encoder(input)))\n",
    "\n",
    "auto.summary()"
   ]
  },
  {
   "cell_type": "markdown",
   "metadata": {},
   "source": [
    "Note that we can use models as components in other models: we build the complete autoencoder by combining the encoder and the decoder. The nice thing here is that we can use the model ```auto``` for training, and then use the encoder and decoder separately to play around with the trained model.\n",
    "\n",
    "\n",
    "We train the autoencoder with binary cross-entropy (each pixel is seen as a probability)."
   ]
  },
  {
   "cell_type": "code",
   "execution_count": null,
   "metadata": {},
   "outputs": [],
   "source": [
    "auto.compile(optimizer='adam', loss='binary_crossentropy')\n",
    "\n",
    "# This gives depracation warning, ignore that."
   ]
  },
  {
   "cell_type": "markdown",
   "metadata": {},
   "source": [
    "To fit the model, we provide it with the training data both as input and output (this is what makes it an autoencoder). This time we're not worried about overfitting, so we don't need a validation set. The better our model reconstructs the data, the happier we are."
   ]
  },
  {
   "cell_type": "code",
   "execution_count": null,
   "metadata": {},
   "outputs": [],
   "source": [
    "auto.fit(x_train, x_train, epochs=10, batch_size=128)"
   ]
  },
  {
   "cell_type": "markdown",
   "metadata": {},
   "source": [
    "This takes around one minute per epoch on my machine (so you may want to get a cup of coffee while it runs). If you're in a hurry, the rest of the worksheet also works if you stop it after two epochs.\n",
    "\n",
    "Let's run some test images through the autoencoder, and see what the reconstructions look like."
   ]
  },
  {
   "cell_type": "code",
   "execution_count": null,
   "metadata": {},
   "outputs": [],
   "source": [
    "inputs = x_test[:10, :, :, :]\n",
    "outputs = auto.predict(inputs)\n",
    "\n",
    "plot_digits(inputs)\n",
    "plot_digits(outputs)"
   ]
  },
  {
   "cell_type": "markdown",
   "metadata": {},
   "source": [
    "The reconstructions are far from perfect, but remember that we've reduced the whole image to just two numbers, and then reconstructed it.\n",
    "\n",
    "Since the latent space of of this autoencoder is 2D, we can plot what the data looks like in 2D."
   ]
  },
  {
   "cell_type": "code",
   "execution_count": null,
   "metadata": {},
   "outputs": [],
   "source": [
    "num = 5000\n",
    "\n",
    "inputs = x_test[:num, :, :, :]\n",
    "latent = encoder.predict(inputs)\n",
    "\n",
    "plt.scatter(latent[:,0], latent[:,1], c=y_test[:num], alpha=0.1)\n"
   ]
  },
  {
   "cell_type": "markdown",
   "metadata": {},
   "source": [
    "We've colored the points by class, but remember that the autoencoder has no access to the class labels. The structure  you see here was learned purely from the pixel values. With more training (and a more powerful model), it's possible to get almost complete separation of the classes.\n",
    "\n",
    "A final trick we can do with encoder models, is to _interpolate in the latent space_. We pick two encoded examples, draw a line between them, and decode points spaced equally on that line. This will give us a slow tranformation from one example to the other. "
   ]
  },
  {
   "cell_type": "code",
   "execution_count": null,
   "metadata": {},
   "outputs": [],
   "source": [
    "import numpy as np\n",
    "\n",
    "# Two random digits, try changing the indices to see what happens\n",
    "example1 = x_test[190,:,:,:] \n",
    "example2 = x_test[237,:,:,:]\n",
    "\n",
    "l1, l2 = encoder.predict(example1[None, :,:,:]), encoder.predict(example2[None, :,:,:])\n",
    "#-- we add the None, because keras expects a batch dimension (even if the batch size is 1)\n",
    "\n",
    "# ten points, equally spaced between 0 and 1\n",
    "line = np.linspace(0, 1, 10)[:, None]\n",
    "\n",
    "points = l1 * line + l2 * (1-line)\n",
    "\n",
    "# Plot the points we will decode\n",
    "plt.scatter(latent[:,0], latent[:,1], c=y_test[:num], alpha=0.01)\n",
    "plt.scatter(points[:, 0], points[:, 1])\n",
    "\n",
    "outputs = decoder.predict(points)\n",
    "plot_digits(outputs.squeeze(3))"
   ]
  },
  {
   "cell_type": "markdown",
   "metadata": {},
   "source": [
    "This may not yet look very convincing if you stoppped training early.\n",
    "\n",
    "It works best if the decoding looks good (which is difficult to achieve with this model, relatively little training, and a 2D latent space). \n",
    "\n",
    "Try setting the latent space higher: increase ```hidden_size``` above  to something like 64. Rebuild the model and rerun the experiment. The plots above will still work, but they will only show the first two dimensions of a 64-dimensional latent space."
   ]
  },
  {
   "cell_type": "markdown",
   "metadata": {},
   "source": [
    "## Final comments\n",
    "\n",
    "As before, we have given you hopefully just enough to get you started, but there is much more to learn. This means that once you start trying things, you will almost certainly get stuck. Feel free to ask questions on the discussion board, we'll do our best to help. \n",
    "\n",
    "Some recommendations:\n",
    "* Plot your [loss curves](). We recommend using Tensorboard to monitor your training, which integrates well with Keras.\n",
    "* The most important hyperparameters to tweak are probably _batch size_, _learning rate_ and _number of hidden units_.\n",
    "* It's likely that at some point [your loss function will suddenly become NaN](http://russellsstewart.com/notes/0.html) (not a number). This often happens when one of the units somewhere in your network gets very big (close to infinite). This causes the loss to become infinite for, which gives NaN for the gradient. Keras still continues with the backpropagation, and the whole network becomes NaN. Usually, it help to reduce the learning rate or to increase the number of hidden units. If not, you should train your model one batch at a time by calling model.train_on_batch(), printing the weights after each batch. This allows you to see what happens just before the loss becomes NaN, which may give you a hint as to what is happening.\n",
    "* As you can see, even training a medium-size network can take a long time, especially if you don't have access to a GPU. One trick you can try is [transfer learning](https://towardsdatascience.com/transfer-learning-using-keras-d804b2e04ef8). Using a model that somebody else has trained, and building on top of it. This allows you to use the power of a deep network, while only training a few layers yourself. The VGG network, which Keras can download for you, is a particularly good choice.\n",
    "* If you want to compare Keras models against other classifiers or regression methods, Keras [integrates with sklearn](https://keras.io/scikit-learn-api/).\n",
    "* For modest networks, you should be able to just let your laptop run overnight to perform experiments. If you want a little more power, you'll need a GPU.\n",
    " * [Google Colab](https://colab.research.google.com) is a cloud-based notebook environment based on Jupyter. It's easy to request a GPU and run your notebook based experiments in there,\n",
    " * Google Cloud Compute has [a 300$ free tier](https://hackernoon.com/launch-a-gpu-backed-google-compute-engine-instance-and-setup-tensorflow-keras-and-jupyter-902369ed5272), that should be enough to run experiments for this course (especially if everybody n your group signs up). Making mistakes in cloud computing can be costly, so be sure to do the following:\n",
    " * Make sure the machine turns off after each experiment.\n",
    " * Set up budget limits and alerts so you realize quickly if you're running our of credit.\n",
    " * Keep your private key and signup email _extremely_ private. If, for instance, you accidentally put this on github, it will get crawled almost immediately and someone will set up a bitcoin miner on your credit.\n",
    "\n",
    "Here are some good resources to read first:\n",
    "* [37 reasons why your neural network is not working](https://blog.slavv.com/37-reasons-why-your-neural-network-is-not-working-4020854bd607)\n",
    "* [25 Must Know Terms & concepts for Beginners in Deep Learning](https://www.analyticsvidhya.com/blog/2017/05/25-must-know-terms-concepts-for-beginners-in-deep-learning/)\n",
    "* [Directory of Keras tutorials and other resources](https://github.com/fchollet/keras-resources)\n",
    "* [CS231n](http://cs231n.stanford.edu/) A famous Stanford course on computer vision with deep neural networks. The level is a little higher than our course, but they also deal with the practicalities of deep learning a lot better.\n",
    "* [DLVU](https://dlvu.github.io) Our own deep learning course. It's an MSc course, so the level is a little higher, but the first few lectures shouldn't be too difficult too follow, and they'll give you a lot more detail.\n",
    "\n",
    "Happy Learning!\n"
   ]
  },
  {
   "cell_type": "code",
   "execution_count": null,
   "metadata": {},
   "outputs": [],
   "source": []
  }
 ],
 "metadata": {
  "kernelspec": {
   "display_name": "Python 3",
   "language": "python",
   "name": "python3"
  },
  "language_info": {
   "codemirror_mode": {
    "name": "ipython",
    "version": 3
   },
   "file_extension": ".py",
   "mimetype": "text/x-python",
   "name": "python",
   "nbconvert_exporter": "python",
   "pygments_lexer": "ipython3",
   "version": "3.8.0"
  }
 },
 "nbformat": 4,
 "nbformat_minor": 1
}
